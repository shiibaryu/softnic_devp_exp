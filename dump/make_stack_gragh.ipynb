{
 "cells": [
  {
   "cell_type": "code",
   "execution_count": 138,
   "metadata": {},
   "outputs": [],
   "source": [
    "#init \n",
    "\n",
    "%matplotlib inline\n",
    "import numpy as np\n",
    "import matplotlib.pyplot as plt\n",
    "\n",
    "f = \"./10pkt_parse.txt\"\n",
    "total_line = 50\n",
    "div_unit = 10\n",
    "init_time = 32009\n",
    "num_type = 3\n",
    "\n",
    "time = np.loadtxt(f,delimiter=',',usecols=[0],dtype=int)\n",
    "p_type = np.loadtxt(f,delimiter=',',usecols=[1],dtype=str)\n",
    "p_len = np.loadtxt(f,delimiter=',',usecols=[2],dtype=int)\n"
   ]
  },
  {
   "cell_type": "code",
   "execution_count": 139,
   "metadata": {},
   "outputs": [],
   "source": [
    "# devide time by time unit\n",
    "\n",
    "unit_time = [];\n",
    "for i in range(total_line):\n",
    "        unit_time.append(int(time[i]/div_unit))"
   ]
  },
  {
   "cell_type": "code",
   "execution_count": 140,
   "metadata": {},
   "outputs": [],
   "source": [
    "# get a count of traffic by time unit\n",
    "\n",
    "traffic_range = unit_time[total_line-1]%init_time + 1\n",
    "counter = list(range(traffic_range))\n",
    "\n",
    "for i in range(traffic_range):\n",
    "    counter[i] = 0;\n",
    "    \n",
    "for i in range(total_line):\n",
    "    counter[unit_time[i]%init_time] += 1;\n",
    "\n",
    "#for i in range(traffic_range):\n",
    " #   print(counter[i]);"
   ]
  },
  {
   "cell_type": "code",
   "execution_count": 141,
   "metadata": {},
   "outputs": [],
   "source": [
    "cluster = np.ones((traffic_range,num_type),dtype={\"names\":(\"ptype\",\"len\"),\"formats\":(\"str\",\"int\")})"
   ]
  },
  {
   "cell_type": "code",
   "execution_count": 142,
   "metadata": {},
   "outputs": [],
   "source": [
    "start = 0;\n",
    "\n",
    "for i in range(traffic_range):\n",
    "    for k in range(3):\n",
    "        cluster[i][k][1] = 0;\n",
    "\n",
    "for i in range(traffic_range):\n",
    "    for k in range(counter[i]):\n",
    "        offset = k + start;\n",
    "        if p_type[offset] == \"MWr\":\n",
    "            cluster[i][0][1] += p_len[offset]\n",
    "        elif p_type[offset] == \"MRd\":\n",
    "            cluster[i][1][1] += p_len[offset]\n",
    "        elif p_type[offset] == \"CplD\":\n",
    "            cluster[i][2][1] += p_len[offset]\n",
    "    start += k;"
   ]
  },
  {
   "cell_type": "code",
   "execution_count": 143,
   "metadata": {},
   "outputs": [
    {
     "data": {
      "text/plain": [
       "array([[('',  0), ('',  0), ('',  0)],\n",
       "       [('',  2), ('',  0), ('',  0)],\n",
       "       [('', 10), ('',  0), ('',  0)],\n",
       "       [('',  4), ('',  0), ('',  0)],\n",
       "       [('',  8), ('', 16), ('',  0)],\n",
       "       [('',  8), ('',  0), ('',  1)],\n",
       "       [('',  4), ('',  0), ('',  1)],\n",
       "       [('',  3), ('', 16), ('',  0)],\n",
       "       [('',  0), ('',  0), ('',  0)],\n",
       "       [('',  6), ('',  0), ('',  0)],\n",
       "       [('',  0), ('',  0), ('',  0)],\n",
       "       [('',  1), ('', 16), ('',  1)],\n",
       "       [('',  0), ('',  0), ('',  1)],\n",
       "       [('',  1), ('',  0), ('',  1)],\n",
       "       [('',  1), ('',  0), ('',  0)],\n",
       "       [('',  1), ('', 16), ('',  0)],\n",
       "       [('',  0), ('', 16), ('',  0)],\n",
       "       [('',  0), ('', 16), ('',  1)],\n",
       "       [('',  1), ('',  0), ('',  1)],\n",
       "       [('',  1), ('',  0), ('',  0)],\n",
       "       [('',  1), ('', 16), ('',  0)],\n",
       "       [('',  0), ('', 16), ('',  0)],\n",
       "       [('',  1), ('', 16), ('',  1)],\n",
       "       [('',  0), ('',  0), ('',  0)],\n",
       "       [('',  1), ('',  0), ('',  1)]],\n",
       "      dtype=[('ptype', '<U'), ('len', '<i4')])"
      ]
     },
     "execution_count": 143,
     "metadata": {},
     "output_type": "execute_result"
    }
   ],
   "source": [
    "cluster"
   ]
  },
  {
   "cell_type": "code",
   "execution_count": 144,
   "metadata": {},
   "outputs": [
    {
     "data": {
      "text/plain": [
       "<function matplotlib.pyplot.show(*args, **kw)>"
      ]
     },
     "execution_count": 144,
     "metadata": {},
     "output_type": "execute_result"
    },
    {
     "data": {
      "image/png": "[encoded data removed]",
      "text/plain": [
       "<Figure size 576x432 with 1 Axes>"
      ]
     },
     "metadata": {
      "needs_background": "light"
     },
     "output_type": "display_data"
    }
   ],
   "source": [
    "import seaborn as sns\n",
    "\n",
    "# unit based on msec\n",
    "unit = 100\n",
    "x_start = 0\n",
    "x_tol = 1 / unit\n",
    "x_end = (unit_time[total_line-1] - unit_time[0])/unit + x_tol*2\n",
    "\n",
    "x = np.arange(x_start,x_end,x_tol)\n",
    "y_mwr = np.arange(traffic_range)\n",
    "y_mrd = np.arange(traffic_range)\n",
    "y_cpid = np.arange(traffic_range)\n",
    "labels = [\"MWr\",\"MRd\",\"CpID\"]\n",
    "\n",
    "for i in range(traffic_range):\n",
    "    y_mwr[i] = cluster[i][0][1];\n",
    "    y_mrd[i] = cluster[i][1][1]; \n",
    "    y_cpid[i] = cluster[i][2][1];\n",
    "\n",
    "pal = sns.color_palette(\"Set1\")\n",
    "fig, ax = plt.subplots(figsize=(8,6))\n",
    "ax.stackplot(x,y_mwr,y_mrd,y_cpid,labels=labels,colors=pal,alpha=0.5)\n",
    "\n",
    "ax.set_xlabel(\"time (msec)\",size=14)\n",
    "ax.set_ylabel(\"Byte\",size=14)\n",
    "ax.set_title(\"Proposed\",size=14)\n",
    "ax.legend(loc=\"best\")\n",
    "#plt.ylim([0,60])\n",
    "\n",
    "plt.savefig(\"proposed_tx_10pkt.pdf\",dpi=300) \n",
    "\n",
    "plt.show"
   ]
  },
  {
   "cell_type": "code",
   "execution_count": null,
   "metadata": {},
   "outputs": [],
   "source": []
  },
  {
   "cell_type": "code",
   "execution_count": null,
   "metadata": {},
   "outputs": [],
   "source": []
  }
 ],
 "metadata": {
  "kernelspec": {
   "display_name": "Python 3",
   "language": "python",
   "name": "python3"
  },
  "language_info": {
   "codemirror_mode": {
    "name": "ipython",
    "version": 3
   },
   "file_extension": ".py",
   "mimetype": "text/x-python",
   "name": "python",
   "nbconvert_exporter": "python",
   "pygments_lexer": "ipython3",
   "version": "3.7.3"
  }
 },
 "nbformat": 4,
 "nbformat_minor": 2
}
