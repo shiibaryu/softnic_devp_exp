{
 "cells": [
  {
   "cell_type": "code",
   "execution_count": 382,
   "metadata": {},
   "outputs": [
    {
     "name": "stdout",
     "output_type": "stream",
     "text": [
      "2000\n",
      "2000\n"
     ]
    }
   ],
   "source": [
    "#init \n",
    "\n",
    "%matplotlib inline\n",
    "import numpy as np\n",
    "import matplotlib.pyplot as plt\n",
    "\n",
    "f = \"./100pkt_parse.txt\"\n",
    "total_line = 618\n",
    "#num_type = 3\n",
    "num_type = 6\n",
    "\n",
    "time = np.loadtxt(f,delimiter=',',usecols=[0],dtype=float)\n",
    "p_type = np.loadtxt(f,delimiter=',',usecols=[1],dtype=str)\n",
    "p_len = np.loadtxt(f,delimiter=',',usecols=[2],dtype=int)\n",
    "\n",
    "k = 0;\n",
    "for i in range(total_line):\n",
    "    if p_type[i] == \"MRd\":\n",
    "        k += p_len[i]\n",
    "print(k);\n",
    "\n",
    "k = 0;\n",
    "\n",
    "for i in range(total_line):\n",
    "    if p_type[i] == \"CplD\":\n",
    "        k += p_len[i]\n",
    "print(k);"
   ]
  },
  {
   "cell_type": "code",
   "execution_count": 383,
   "metadata": {},
   "outputs": [
    {
     "name": "stdout",
     "output_type": "stream",
     "text": [
      "6.448276\n",
      "6.452317\n"
     ]
    }
   ],
   "source": [
    "print(time[0])\n",
    "print(time[total_line-1])"
   ]
  },
  {
   "cell_type": "code",
   "execution_count": 384,
   "metadata": {},
   "outputs": [
    {
     "data": {
      "text/plain": [
       "array([448276., 448282., 448283., 448284., 448285., 448286., 448287.,\n",
       "       448288., 448295., 448301., 448305., 448307., 448356., 448361.,\n",
       "       448362., 448363., 448364., 448365., 448366., 448367., 448368.,\n",
       "       448369., 448370., 448376., 448389., 448391., 448392., 448394.,\n",
       "       448407., 448409., 448411., 448413., 448413., 448420., 448424.,\n",
       "       448429., 448439., 448441., 448442., 448449., 448495., 448500.,\n",
       "       448501., 448502., 448503., 448504., 448511., 448517., 448522.,\n",
       "       448528., 448530., 448531., 448537., 448540., 448586., 448590.,\n",
       "       448592., 448593., 448594., 448595., 448596., 448597., 448598.,\n",
       "       448599., 448599., 448606., 448613., 448618., 448621., 448622.,\n",
       "       448633., 448635., 448640., 448645., 448647., 448648., 448653.,\n",
       "       448657., 448659., 448660., 448672., 448673., 448678., 448684.,\n",
       "       448685., 448686., 448692., 448696., 448697., 448698., 448711.,\n",
       "       448712., 448717., 448723., 448724., 448725., 448731., 448735.,\n",
       "       448735., 448737., 448750., 448751., 448756., 448762., 448763.,\n",
       "       448765., 448772., 448774., 448775., 448779., 448789., 448790.,\n",
       "       448795., 448801., 448813., 448814., 448815., 448816., 448821.,\n",
       "       448825., 448827., 448840., 448841., 448842., 448847., 448852.,\n",
       "       448853., 448854., 448860., 448863., 448864., 448866., 448879.,\n",
       "       448880., 448885., 448891., 448892., 448893., 448899., 448903.,\n",
       "       448903., 448905., 448918., 448920., 448924., 448930., 448931.,\n",
       "       448932., 448938., 448942., 448942., 448944., 448957., 448959.,\n",
       "       448963., 448969., 448970., 448971., 448977., 448981., 448981.,\n",
       "       448995., 449001., 449013., 449019., 449022., 449033., 449039.,\n",
       "       449051., 449057., 449060., 449071., 449077., 449089., 449095.,\n",
       "       449098., 449109., 449115., 449127., 449132., 449136., 449147.,\n",
       "       449152., 449164., 449170., 449174., 449185., 449190., 449202.,\n",
       "       449208., 449211., 449223., 449228., 449240., 449246., 449249.,\n",
       "       449261., 449266., 449278., 449284., 449287., 449299., 449304.,\n",
       "       449316., 449322., 449325., 449338., 449344., 449355., 449361.,\n",
       "       449364., 449375., 449381., 449393., 449399., 449402., 449413.,\n",
       "       449419., 449431., 449437., 449440., 449451., 449456., 449469.,\n",
       "       449475., 449478., 449489., 449494., 449506., 449512., 449516.,\n",
       "       449527., 449533., 449544., 449550., 449553., 449565., 449570.,\n",
       "       449581., 449587., 449590., 449602., 449607., 449619., 449625.,\n",
       "       449628., 449640., 449645., 449657., 449663., 449666., 449677.,\n",
       "       449683., 449695., 449701., 449704., 449715., 449721., 449732.,\n",
       "       449738., 449741., 449752., 449758., 449770., 449776., 449779.,\n",
       "       449790., 449795., 449807., 449813., 449817., 449828., 449834.,\n",
       "       449845., 449851., 449855., 449866., 449871., 449883., 449889.,\n",
       "       449892., 449904., 449909., 449921., 449927., 449930., 449942.,\n",
       "       449947., 449959., 449965., 449968., 449980., 449985., 449997.,\n",
       "       450003., 450006., 450017., 450023., 450035., 450041., 450044.,\n",
       "       450055., 450061., 450073., 450079., 450082., 450093., 450099.,\n",
       "       450111., 450116., 450120., 450131., 450137., 450148., 450154.,\n",
       "       450158., 450169., 450174., 450186., 450192., 450195., 450207.,\n",
       "       450212., 450224., 450230., 450233., 450245., 450250., 450262.,\n",
       "       450268., 450271., 450283., 450288., 450300., 450306., 450309.,\n",
       "       450322., 450327., 450339., 450345., 450348., 450359., 450365.,\n",
       "       450377., 450383., 450386., 450397., 450403., 450415., 450420.,\n",
       "       450424., 450435., 450441., 450453., 450459., 450462., 450473.,\n",
       "       450479., 450490., 450497., 450500., 450511., 450516., 450528.,\n",
       "       450534., 450537., 450550., 450556., 450567., 450573., 450576.,\n",
       "       450588., 450593., 450605., 450611., 450614., 450626., 450631.,\n",
       "       450643., 450649., 450652., 450664., 450669., 450681., 450687.,\n",
       "       450690., 450702., 450707., 450719., 450725., 450728., 450739.,\n",
       "       450745., 450757., 450763., 450766., 450777., 450783., 450795.,\n",
       "       450800., 450804., 450815., 450820., 450832., 450838., 450842.,\n",
       "       450853., 450858., 450870., 450876., 450880., 450891., 450896.,\n",
       "       450908., 450914., 450917., 450929., 450934., 450946., 450952.,\n",
       "       450955., 450967., 450972., 450984., 450990., 450993., 451005.,\n",
       "       451010., 451022., 451028., 451031., 451042., 451048., 451060.,\n",
       "       451067., 451070., 451081., 451087., 451099., 451105., 451108.,\n",
       "       451119., 451125., 451137., 451143., 451146., 451158., 451163.,\n",
       "       451176., 451181., 451185., 451196., 451201., 451212., 451218.,\n",
       "       451221., 451233., 451238., 451250., 451256., 451260., 451271.,\n",
       "       451276., 451288., 451294., 451297., 451309., 451314., 451326.,\n",
       "       451332., 451335., 451347., 451352., 451364., 451370., 451373.,\n",
       "       451384., 451390., 451402., 451408., 451411., 451422., 451428.,\n",
       "       451440., 451446., 451449., 451460., 451466., 451478., 451484.,\n",
       "       451487., 451498., 451503., 451515., 451520., 451524., 451535.,\n",
       "       451540., 451552., 451558., 451562., 451573., 451578., 451590.,\n",
       "       451596., 451599., 451611., 451616., 451628., 451634., 451637.,\n",
       "       451649., 451654., 451666., 451672., 451675., 451687., 451692.,\n",
       "       451704., 451710., 451713., 451724., 451730., 451742., 451748.,\n",
       "       451751., 451764., 451769., 451781., 451787., 451790., 451801.,\n",
       "       451807., 451819., 451825., 451828., 451839., 451844., 451857.,\n",
       "       451862., 451866., 451877., 451882., 451894., 451900., 451904.,\n",
       "       451915., 451920., 451932., 451938., 451941., 451953., 451959.,\n",
       "       451970., 451976., 451979., 451991., 451996., 452008., 452014.,\n",
       "       452017., 452029., 452034., 452046., 452052., 452055., 452066.,\n",
       "       452072., 452084., 452090., 452093., 452104., 452110., 452122.,\n",
       "       452128., 452131., 452136., 452139., 452141., 452142., 452148.,\n",
       "       452160., 452166., 452169., 452180., 452185., 452198., 452200.,\n",
       "       452201., 452203., 452204., 452206., 452207., 452208., 452210.,\n",
       "       452218., 452221., 452222., 452224., 452224., 452235., 452241.,\n",
       "       452244., 452256., 452258., 452260., 452261., 452261., 452273.,\n",
       "       452279., 452283., 452294., 452299., 452300., 452301., 452303.,\n",
       "       452311., 452317.])"
      ]
     },
     "execution_count": 384,
     "metadata": {},
     "output_type": "execute_result"
    }
   ],
   "source": [
    "for i in range(total_line):\n",
    "    time[i] = int(time[i] * 1000000)\n",
    "    time[i] = time[i] - 6000000\n",
    "time"
   ]
  },
  {
   "cell_type": "code",
   "execution_count": 385,
   "metadata": {},
   "outputs": [],
   "source": [
    "# devide time by time unit\n",
    "div_unit = 100\n",
    "\n",
    "unit_time = [];\n",
    "for i in range(total_line):\n",
    "        unit_time.append(int(time[i]/div_unit))"
   ]
  },
  {
   "cell_type": "code",
   "execution_count": 386,
   "metadata": {},
   "outputs": [],
   "source": [
    "# get a count of traffic by time unit\n",
    "\n",
    "init_time = unit_time[0]\n",
    "traffic_range = unit_time[total_line-1]%init_time + 1\n",
    "#traffic_range = unit_time[total_line-1] - init_time\n",
    "counter = list(range(traffic_range))\n",
    "\n",
    "for i in range(traffic_range):\n",
    "    counter[i] = 0;\n",
    "    \n",
    "for i in range(total_line):\n",
    "    counter[unit_time[i]%init_time] += 1;\n",
    "\n",
    "#for i in range(traffic_range):\n",
    " #   print(counter[i]);"
   ]
  },
  {
   "cell_type": "code",
   "execution_count": 387,
   "metadata": {},
   "outputs": [],
   "source": [
    "cluster = np.ones((traffic_range,num_type),dtype={\"names\":(\"ptype\",\"len\"),\"formats\":(\"str\",\"int\")})"
   ]
  },
  {
   "cell_type": "code",
   "execution_count": 366,
   "metadata": {},
   "outputs": [],
   "source": [
    "start = 0;\n",
    "\n",
    "for i in range(traffic_range):\n",
    "    for k in range(num_type):\n",
    "        cluster[i][k][1] = 0;\n",
    "\n",
    "for i in range(traffic_range):\n",
    "    for k in range(counter[i]):\n",
    "        offset = k + start;\n",
    "        if p_type[offset] == \"MWr\":\n",
    "            cluster[i][0][1] += p_len[offset]\n",
    "        elif p_type[offset] == \"MRd\":\n",
    "            cluster[i][1][1] += p_len[offset]\n",
    "        elif p_type[offset] == \"CplD\":\n",
    "            cluster[i][2][1] += p_len[offset]\n",
    "    start += k;"
   ]
  },
  {
   "cell_type": "code",
   "execution_count": 388,
   "metadata": {},
   "outputs": [
    {
     "name": "stdout",
     "output_type": "stream",
     "text": [
      "576\n",
      "errrrrrrrrrroooooooooooooor!\n",
      "587\n",
      "errrrrrrrrrroooooooooooooor!\n",
      "591\n",
      "errrrrrrrrrroooooooooooooor!\n",
      "596\n",
      "errrrrrrrrrroooooooooooooor!\n",
      "604\n",
      "errrrrrrrrrroooooooooooooor!\n",
      "613\n",
      "errrrrrrrrrroooooooooooooor!\n"
     ]
    },
    {
     "data": {
      "text/plain": [
       "1600"
      ]
     },
     "execution_count": 388,
     "metadata": {},
     "output_type": "execute_result"
    }
   ],
   "source": [
    "start = 0;\n",
    "offset = 0;\n",
    "d_mrd = 4;\n",
    "p_mrd = 16;\n",
    "d_cpld = 4;\n",
    "p_cpld = 16;\n",
    "\n",
    "testp = 0;\n",
    "for i in range(traffic_range):\n",
    "    for k in range(num_type):\n",
    "        cluster[i][k][1] = 0;\n",
    "\n",
    "for i in range(traffic_range):\n",
    "    for k in range(counter[i]):\n",
    "        offset = k + start;\n",
    "        \n",
    "        if p_type[offset] == \"MWr\":\n",
    "            if p_len[offset] == 2:\n",
    "                cluster[i][0][1] += p_len[offset]\n",
    "            elif p_len[offset] == 1:\n",
    "                 cluster[i][1][1] += p_len[offset]\n",
    "            else:\n",
    "                print(offset)\n",
    "                print(\"errrrrrrrrrroooooooooooooor!\")\n",
    "        elif p_type[offset] == \"MRd\":\n",
    "            if p_len[offset] == d_mrd:\n",
    "                cluster[i][2][1] += p_len[offset]\n",
    "            elif p_len[offset] == p_mrd:\n",
    "                cluster[i][3][1] += p_len[offset]\n",
    "                testp +=p_len[offset];\n",
    "        elif p_type[offset] == \"CplD\":\n",
    "            if  p_len[offset] == d_cpld:\n",
    "                cluster[i][4][1] += p_len[offset]\n",
    "            elif p_len[offset] == p_cpld:\n",
    "                cluster[i][5][1] += p_len[offset]\n",
    "    start += counter[i]; \n",
    "    offset = 0;\n",
    "    \n",
    "testp"
   ]
  },
  {
   "cell_type": "code",
   "execution_count": 389,
   "metadata": {},
   "outputs": [
    {
     "data": {
      "text/plain": [
       "42"
      ]
     },
     "execution_count": 389,
     "metadata": {},
     "output_type": "execute_result"
    }
   ],
   "source": [
    "traffic_range"
   ]
  },
  {
   "cell_type": "code",
   "execution_count": 305,
   "metadata": {},
   "outputs": [
    {
     "data": {
      "text/plain": [
       "<function matplotlib.pyplot.show(*args, **kw)>"
      ]
     },
     "execution_count": 305,
     "metadata": {},
     "output_type": "execute_result"
    },
    {
     "data": {
      "image/png": "[encoded data removed]",
      "text/plain": [
       "<Figure size 576x432 with 1 Axes>"
      ]
     },
     "metadata": {
      "needs_background": "light"
     },
     "output_type": "display_data"
    }
   ],
   "source": [
    "import seaborn as sns\n",
    "\n",
    "# unit based on sec or msec\n",
    "unit = 10\n",
    "x_start = 0\n",
    "x_tol = 1 / unit\n",
    "x_end = 0.8\n",
    "#x_end = (unit_time[total_line-1] - unit_time[0])/unit + x_tol*2\n",
    "\n",
    "x = np.arange(x_start,x_end,x_tol)\n",
    "y_mwr = np.arange(traffic_range)\n",
    "y_mrd = np.arange(traffic_range)\n",
    "y_cpid = np.arange(traffic_range)\n",
    "\n",
    "labels = [\"MWr\",\"MRd\",\"CpID\"]\n",
    "\n",
    "for i in range(traffic_range):\n",
    "    y_mwr[i] = cluster[i][0][1];\n",
    "    y_mrd[i] = cluster[i][1][1]; \n",
    "    y_cpid[i] = cluster[i][2][1];\n",
    "\n",
    "pal = sns.color_palette(\"Set1\")\n",
    "fig, ax = plt.subplots(figsize=(8,6))\n",
    "ax.stackplot(x,y_mwr,y_mrd,y_cpid,labels=labels,colors=pal,alpha=0.5)\n",
    "\n",
    "ax.set_xlabel(\"Time (msec)\",size=14)\n",
    "ax.set_ylabel(\"Byte\",size=14)\n",
    "ax.set_title(\"Traditional\",size=14)\n",
    "ax.legend(loc=\"best\")\n",
    "#plt.ylim([0,60])\n",
    "\n",
    "plt.savefig(\"./stackg_pic/100pkt/01msec_4col.pdf\",dpi=300) \n",
    "\n",
    "plt.show"
   ]
  },
  {
   "cell_type": "code",
   "execution_count": 394,
   "metadata": {},
   "outputs": [
    {
     "data": {
      "text/plain": [
       "<function matplotlib.pyplot.show(*args, **kw)>"
      ]
     },
     "execution_count": 394,
     "metadata": {},
     "output_type": "execute_result"
    },
    {
     "data": {
      "image/png": "[encoded data removed]",
      "text/plain": [
       "<Figure size 576x432 with 1 Axes>"
      ]
     },
     "metadata": {
      "needs_background": "light"
     },
     "output_type": "display_data"
    }
   ],
   "source": [
    "# 4color\n",
    "\n",
    "import seaborn as sns\n",
    "\n",
    "# unit based on sec or msec\n",
    "unit = 10\n",
    "x_start = 0\n",
    "x_tol = 1 / unit\n",
    "x_end = 4.2\n",
    "#x_end = (unit_time[total_line-1] - unit_time[0])/unit + x_tol*2\n",
    "\n",
    "x = np.arange(x_start,x_end,x_tol)\n",
    "a_y_mwr = np.arange(traffic_range)\n",
    "d_y_mwr = np.arange(traffic_range)\n",
    "d_y_mrd = np.arange(traffic_range)\n",
    "d_y_cpid = np.arange(traffic_range)\n",
    "p_y_mrd = np.arange(traffic_range)\n",
    "p_y_cpid = np.arange(traffic_range)\n",
    "\n",
    "\n",
    "#labels = [\"MWr\",\"MRd\",\"CpID\"]\n",
    "labels = [\"Adapter_MWr\",\"Device_MWr\",\"Descriptor_MRd\",\"Descriptor_CpID\",\"Packet_MRd\",\"Packet_CpID\"]\n",
    "\n",
    "for i in range(traffic_range):\n",
    "   # y_mwr[i] = cluster[i][0][1]/1024;\n",
    "    #y_mrd[i] = cluster[i][1][1]/1024; \n",
    "    #y_cpid[i] = cluster[i][2][1]/1024;\n",
    "    a_y_mwr[i] = cluster[i][0][1];\n",
    "    d_y_mwr[i] = cluster[i][1][1];\n",
    "    d_y_mrd[i] = cluster[i][2][1]; \n",
    "    p_y_mrd[i] = cluster[i][3][1];\n",
    "    d_y_cpid[i] = cluster[i][4][1]; \n",
    "    p_y_cpid[i] = cluster[i][5][1];\n",
    "\n",
    "pal = sns.color_palette(\"Set1\")\n",
    "fig, ax = plt.subplots(figsize=(8,6))\n",
    "ax.stackplot(x,a_y_mwr,d_y_mwr,d_y_mrd,d_y_cpid,p_y_mrd,p_y_cpid,labels=labels,colors=pal,alpha=0.7)\n",
    "\n",
    "ax.set_xlabel(\"Time (msec)\",size=14)\n",
    "ax.set_ylabel(\"Byte\",size=14)\n",
    "ax.set_title(\"Traditional\",size=14)\n",
    "ax.legend(loc=\"best\")\n",
    "plt.ylim([0,185])\n",
    "plt.xlim(0.0, 4.20)     \n",
    "\n",
    "plt.savefig(\"./stackg_pic/10pkt/01msec_4col_y200.png\",dpi=300) \n",
    "\n",
    "plt.show"
   ]
  },
  {
   "cell_type": "code",
   "execution_count": null,
   "metadata": {},
   "outputs": [],
   "source": []
  },
  {
   "cell_type": "code",
   "execution_count": null,
   "metadata": {},
   "outputs": [],
   "source": []
  }
 ],
 "metadata": {
  "kernelspec": {
   "display_name": "Python 3",
   "language": "python",
   "name": "python3"
  },
  "language_info": {
   "codemirror_mode": {
    "name": "ipython",
    "version": 3
   },
   "file_extension": ".py",
   "mimetype": "text/x-python",
   "name": "python",
   "nbconvert_exporter": "python",
   "pygments_lexer": "ipython3",
   "version": "3.7.3"
  }
 },
 "nbformat": 4,
 "nbformat_minor": 2
}
