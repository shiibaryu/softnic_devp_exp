{
 "cells": [
  {
   "cell_type": "code",
   "execution_count": 451,
   "metadata": {},
   "outputs": [
    {
     "name": "stdout",
     "output_type": "stream",
     "text": [
      "9200\n",
      "17200\n"
     ]
    }
   ],
   "source": [
    "#init \n",
    "\n",
    "%matplotlib inline\n",
    "import numpy as np\n",
    "import matplotlib.pyplot as plt\n",
    "\n",
    "f = \"../../100pkt/t_parse.txt\"\n",
    "\n",
    "total_line = 600\n",
    "#num_type = 3\n",
    "num_type = 6\n",
    "\n",
    "time = np.loadtxt(f,delimiter=',',usecols=[0],dtype=float)\n",
    "p_len = np.loadtxt(f,delimiter=',',usecols=[1],dtype=int)\n",
    "p_type = np.loadtxt(f,delimiter=',',usecols=[2],dtype=str)\n",
    "mrd_len = np.loadtxt(f,delimiter=',',usecols=[3],dtype=int)\n",
    "\n",
    "k = 0;\n",
    "for i in range(total_line):\n",
    "    if p_type[i] == \"MRd\":\n",
    "        k += p_len[i]\n",
    "print(k);\n",
    "\n",
    "k = 0;\n",
    "\n",
    "for i in range(total_line):\n",
    "    if p_type[i] == \"Cpl\":\n",
    "        k += p_len[i]\n",
    "print(k);"
   ]
  },
  {
   "cell_type": "code",
   "execution_count": 452,
   "metadata": {},
   "outputs": [
    {
     "name": "stdout",
     "output_type": "stream",
     "text": [
      "45.309853\n",
      "45.313968\n"
     ]
    }
   ],
   "source": [
    "print(time[0])\n",
    "print(time[total_line-1])"
   ]
  },
  {
   "cell_type": "code",
   "execution_count": 453,
   "metadata": {},
   "outputs": [
    {
     "data": {
      "text/plain": [
       "array([309853., 309859., 309860., 309861., 309862., 309863., 309865.,\n",
       "       309865., 309872., 309879., 309883., 309884., 309936., 309941.,\n",
       "       309942., 309943., 309944., 309945., 309946., 309947., 309948.,\n",
       "       309949., 309950., 309951., 309958., 309963., 309975., 309978.,\n",
       "       309979., 309981., 309982., 309987., 309992., 309997., 310006.,\n",
       "       310009., 310010., 310011., 310012., 310019., 310020., 310021.,\n",
       "       310071., 310076., 310077., 310079., 310080., 310081., 310082.,\n",
       "       310083., 310084., 310085., 310086., 310093., 310100., 310105.,\n",
       "       310106., 310108., 310109., 310122., 310125., 310126., 310127.,\n",
       "       310134., 310136., 310182., 310186., 310188., 310189., 310190.,\n",
       "       310191., 310192., 310193., 310194., 310195., 310196., 310203.,\n",
       "       310209., 310214., 310218., 310219., 310220., 310221., 310226.,\n",
       "       310230., 310231., 310244., 310245., 310247., 310252., 310256.,\n",
       "       310258., 310270., 310276., 310283., 310284., 310286., 310291.,\n",
       "       310295., 310296., 310298., 310309., 310311., 310312., 310317.,\n",
       "       310322., 310323., 310325., 310327., 310333., 310334., 310338.,\n",
       "       310348., 310350., 310351., 310352., 310357., 310361., 310375.,\n",
       "       310376., 310377., 310379., 310384., 310387., 310389., 310391.,\n",
       "       310402., 310403., 310404., 310405., 310410., 310414., 310428.,\n",
       "       310429., 310431., 310432., 310437., 310440., 310443., 310455.,\n",
       "       310456., 310457., 310462., 310474., 310480., 310484., 310495.,\n",
       "       310500., 310512., 310518., 310522., 310534., 310539., 310551.,\n",
       "       310557., 310560., 310573., 310578., 310590., 310596., 310600.,\n",
       "       310611., 310617., 310629., 310635., 310639., 310650., 310656.,\n",
       "       310668., 310674., 310677., 310688., 310694., 310706., 310712.,\n",
       "       310715., 310726., 310732., 310744., 310750., 310753., 310765.,\n",
       "       310771., 310782., 310789., 310792., 310803., 310809., 310820.,\n",
       "       310827., 310830., 310841., 310847., 310858., 310864., 310868.,\n",
       "       310879., 310884., 310896., 310902., 310906., 310917., 310922.,\n",
       "       310934., 310940., 310944., 310956., 310961., 310973., 310979.,\n",
       "       310983., 310994., 311000., 311012., 311018., 311021., 311034.,\n",
       "       311040., 311052., 311058., 311061., 311073., 311079., 311091.,\n",
       "       311097., 311100., 311112., 311118., 311130., 311136., 311139.,\n",
       "       311151., 311157., 311169., 311175., 311178., 311190., 311196.,\n",
       "       311208., 311214., 311217., 311229., 311235., 311246., 311252.,\n",
       "       311256., 311267., 311273., 311284., 311290., 311294., 311305.,\n",
       "       311310., 311322., 311328., 311332., 311343., 311348., 311360.,\n",
       "       311366., 311370., 311382., 311387., 311399., 311405., 311409.,\n",
       "       311421., 311426., 311438., 311444., 311447., 311459., 311465.,\n",
       "       311477., 311483., 311486., 311498., 311504., 311516., 311522.,\n",
       "       311525., 311536., 311542., 311554., 311560., 311563., 311575.,\n",
       "       311581., 311593., 311599., 311602., 311614., 311620., 311632.,\n",
       "       311638., 311641., 311653., 311658., 311670., 311676., 311680.,\n",
       "       311692., 311698., 311709., 311715., 311719., 311731., 311736.,\n",
       "       311748., 311754., 311758., 311769., 311774., 311786., 311792.,\n",
       "       311796., 311808., 311813., 311825., 311831., 311835., 311846.,\n",
       "       311852., 311864., 311870., 311873., 311884., 311890., 311902.,\n",
       "       311908., 311911., 311922., 311928., 311940., 311946., 311949.,\n",
       "       311960., 311966., 311977., 311984., 311987., 311999., 312007.,\n",
       "       312020., 312026., 312030., 312041., 312047., 312058., 312065.,\n",
       "       312068., 312080., 312086., 312097., 312103., 312107., 312118.,\n",
       "       312123., 312135., 312141., 312145., 312156., 312161., 312173.,\n",
       "       312179., 312183., 312194., 312199., 312211., 312217., 312221.,\n",
       "       312233., 312238., 312250., 312256., 312259., 312272., 312278.,\n",
       "       312290., 312296., 312299., 312310., 312316., 312328., 312334.,\n",
       "       312337., 312349., 312355., 312367., 312373., 312376., 312387.,\n",
       "       312393., 312405., 312411., 312414., 312425., 312431., 312442.,\n",
       "       312449., 312452., 312464., 312469., 312481., 312487., 312491.,\n",
       "       312502., 312507., 312519., 312525., 312529., 312541., 312546.,\n",
       "       312558., 312564., 312568., 312580., 312585., 312597., 312603.,\n",
       "       312607., 312619., 312624., 312636., 312642., 312645., 312656.,\n",
       "       312662., 312674., 312680., 312683., 312694., 312700., 312712.,\n",
       "       312718., 312721., 312732., 312738., 312750., 312756., 312759.,\n",
       "       312770., 312776., 312788., 312794., 312797., 312809., 312815.,\n",
       "       312826., 312833., 312836., 312848., 312853., 312865., 312872.,\n",
       "       312875., 312887., 312892., 312904., 312910., 312914., 312926.,\n",
       "       312932., 312943., 312949., 312953., 312965., 312970., 312982.,\n",
       "       312988., 312992., 313004., 313010., 313021., 313027., 313031.,\n",
       "       313042., 313047., 313059., 313065., 313068., 313079., 313085.,\n",
       "       313097., 313103., 313106., 313117., 313122., 313135., 313140.,\n",
       "       313144., 313155., 313160., 313173., 313178., 313182., 313193.,\n",
       "       313198., 313211., 313216., 313219., 313231., 313236., 313248.,\n",
       "       313254., 313257., 313269., 313274., 313286., 313292., 313295.,\n",
       "       313307., 313312., 313324., 313330., 313333., 313345., 313350.,\n",
       "       313362., 313368., 313371., 313383., 313388., 313399., 313405.,\n",
       "       313408., 313419., 313425., 313437., 313442., 313446., 313457.,\n",
       "       313462., 313474., 313479., 313483., 313496., 313501., 313513.,\n",
       "       313518., 313522., 313533., 313538., 313550., 313556., 313559.,\n",
       "       313571., 313576., 313588., 313594., 313597., 313609., 313614.,\n",
       "       313625., 313631., 313634., 313646., 313651., 313662., 313668.,\n",
       "       313671., 313683., 313688., 313700., 313706., 313709., 313720.,\n",
       "       313726., 313737., 313742., 313746., 313757., 313762., 313775.,\n",
       "       313780., 313784., 313795., 313801., 313813., 313818., 313821.,\n",
       "       313833., 313838., 313850., 313856., 313860., 313871., 313876.,\n",
       "       313887., 313893., 313896., 313908., 313913., 313924., 313930.,\n",
       "       313933., 313945., 313950., 313962., 313968.])"
      ]
     },
     "execution_count": 453,
     "metadata": {},
     "output_type": "execute_result"
    }
   ],
   "source": [
    "for i in range(total_line):\n",
    "    time[i] = int(time[i] * 1000000)\n",
    "    time[i] = time[i] - 45000000\n",
    "time"
   ]
  },
  {
   "cell_type": "code",
   "execution_count": 454,
   "metadata": {},
   "outputs": [],
   "source": [
    "# devide time by time unit\n",
    "div_unit = 100\n",
    "\n",
    "unit_time = [];\n",
    "for i in range(total_line):\n",
    "        unit_time.append(int(time[i]/div_unit))"
   ]
  },
  {
   "cell_type": "code",
   "execution_count": 455,
   "metadata": {},
   "outputs": [],
   "source": [
    "# get a count of traffic by time unit\n",
    "\n",
    "init_time = unit_time[0]\n",
    "traffic_range = unit_time[total_line-1]%init_time + 1\n",
    "#traffic_range = unit_time[total_line-1] - init_time\n",
    "counter = list(range(traffic_range))\n",
    "\n",
    "for i in range(traffic_range):\n",
    "    counter[i] = 0;\n",
    "    \n",
    "for i in range(total_line):\n",
    "    counter[unit_time[i]%init_time] += 1;\n",
    "\n",
    "#for i in range(traffic_range):\n",
    " #   print(counter[i]);"
   ]
  },
  {
   "cell_type": "code",
   "execution_count": 456,
   "metadata": {},
   "outputs": [],
   "source": [
    "cluster = np.ones((traffic_range,num_type),dtype={\"names\":(\"ptype\",\"len\"),\"formats\":(\"str\",\"int\")})"
   ]
  },
  {
   "cell_type": "code",
   "execution_count": 457,
   "metadata": {},
   "outputs": [],
   "source": [
    "for i in range(total_line):\n",
    "    p_len[i] = p_len[i] - 40;\n",
    "    if p_len[i] <= 0:\n",
    "        print(\"errorrrrr\");"
   ]
  },
  {
   "cell_type": "code",
   "execution_count": 458,
   "metadata": {},
   "outputs": [
    {
     "data": {
      "text/plain": [
       "7000"
      ]
     },
     "execution_count": 458,
     "metadata": {},
     "output_type": "execute_result"
    }
   ],
   "source": [
    "start = 0;\n",
    "offset = 0;\n",
    "t = 0;\n",
    "\n",
    "for i in range(traffic_range):\n",
    "    for k in range(num_type):\n",
    "        cluster[i][k][1] = 0;\n",
    "\n",
    "for i in range(traffic_range):\n",
    "    for k in range(counter[i]):\n",
    "        offset = k + start;\n",
    "        \n",
    "        if p_type[offset] == \"MWr\":\n",
    "            if p_len[offset] == 14:\n",
    "                cluster[i][0][1] += p_len[offset]\n",
    "            elif p_len[offset] == 10:\n",
    "                cluster[i][1][1] += p_len[offset]\n",
    "            else:\n",
    "                print(offset)\n",
    "                print(\"errrrrrrrrrroooooooooooooor!\")\n",
    "        elif p_type[offset] == \"MRd\":\n",
    "            #desc\n",
    "            if mrd_len[offset] == 4:\n",
    "                cluster[i][2][1] += p_len[offset] \n",
    "            #pkt\n",
    "            elif mrd_len[offset] == 16:\n",
    "                cluster[i][3][1] += p_len[offset]\n",
    "            else:\n",
    "                print(\"errro\");\n",
    "        elif p_type[offset] == \"Cpl\":\n",
    "            #descriptor\n",
    "            if  p_len[offset] == 22:\n",
    "                cluster[i][4][1] += p_len[offset]\n",
    "            #pkt\n",
    "            else:\n",
    "                t +=p_len[offset];\n",
    "                cluster[i][5][1] += p_len[offset]\n",
    "    start += counter[i]; \n",
    "    offset = 0;\n",
    "\n",
    "t"
   ]
  },
  {
   "cell_type": "code",
   "execution_count": 459,
   "metadata": {},
   "outputs": [
    {
     "data": {
      "text/plain": [
       "42"
      ]
     },
     "execution_count": 459,
     "metadata": {},
     "output_type": "execute_result"
    }
   ],
   "source": [
    "traffic_range"
   ]
  },
  {
   "cell_type": "code",
   "execution_count": 480,
   "metadata": {},
   "outputs": [
    {
     "data": {
      "text/plain": [
       "<function matplotlib.pyplot.show(*args, **kw)>"
      ]
     },
     "execution_count": 480,
     "metadata": {},
     "output_type": "execute_result"
    },
    {
     "data": {
      "image/png": "[encoded data removed]",
      "text/plain": [
       "<Figure size 576x432 with 1 Axes>"
      ]
     },
     "metadata": {
      "needs_background": "light"
     },
     "output_type": "display_data"
    }
   ],
   "source": [
    "# 4color\n",
    "\n",
    "import seaborn as sns\n",
    "\n",
    "# unit based on sec or msec\n",
    "unit = 10\n",
    "x_start = 0\n",
    "x_tol = 1 / unit\n",
    "x_end = 4.2\n",
    "#x_end = (unit_time[total_line-1] - unit_time[0])/unit + x_tol*2\n",
    "\n",
    "x = np.arange(x_start,x_end,x_tol)\n",
    "a_y_mwr = np.arange(traffic_range)\n",
    "d_y_mwr = np.arange(traffic_range)\n",
    "d_y_mrd = np.arange(traffic_range)\n",
    "d_y_cpid = np.arange(traffic_range)\n",
    "p_y_mrd = np.arange(traffic_range)\n",
    "p_y_cpid = np.arange(traffic_range)\n",
    "\n",
    "\n",
    "#labels = [\"MWr\",\"MRd\",\"CpID\"]\n",
    "labels = [\"Adapter_MWr\",\"Device_MWr\",\"Descriptor_MRd\",\"Descriptor_CpID\",\"Packet_MRd\",\"Packet_CpID\"]\n",
    "\n",
    "for i in range(traffic_range):\n",
    "   # y_mwr[i] = cluster[i][0][1]/1024;\n",
    "    #y_mrd[i] = cluster[i][1][1]/1024; \n",
    "    #y_cpid[i] = cluster[i][2][1]/1024;\n",
    "    a_y_mwr[i] = cluster[i][0][1];\n",
    "    d_y_mwr[i] = cluster[i][1][1];\n",
    "    d_y_mrd[i] = cluster[i][2][1]; \n",
    "    p_y_mrd[i] = cluster[i][3][1];\n",
    "    d_y_cpid[i] = cluster[i][4][1]; \n",
    "    p_y_cpid[i] = cluster[i][5][1];\n",
    "\n",
    "pal = sns.color_palette(\"Set1\")\n",
    "fig, ax = plt.subplots(figsize=(8,6))\n",
    "#ax.stackplot(x,a_y_mwr,d_y_mwr,d_y_mrd,d_y_cpid,p_y_mrd,p_y_cpid,labels=labels,colors=pal,alpha=0.7)\n",
    "#ax.plot(x,a_y_mwr,label=\"MWr_from_Adapter\",color=\"red\")\n",
    "#ax.plot(x,d_y_mwr,label=\"MWr_from_Device\",color=\"purple\")\n",
    "#ax.plot(x,d_y_mrd,label=\"MRd_for_Descriptor\")\n",
    "#ax.plot(x,p_y_mrd,label=\"MRd_for_Packet\",color=\"blue\")\n",
    "#ax.plot(x,d_y_cpid,label=\"CplD_for_Descriptor\")\n",
    "#ax.plot(x,p_y_cpid,label=\"CplD_for_Packet\",color=\"green\")\n",
    "\n",
    "ax.plot(x,a_y_mwr,label=\"MWr_from_Adapter\",color=\"r\",linestyle=\":\",linewidth=1.5,marker=\"o\",markersize=5.4,fillstyle='none')\n",
    "ax.plot(x,d_y_mwr,label=\"MWr_from_Device\", color='r',linestyle='-',linewidth=1.5,marker=\"o\",markersize=5.4,fillstyle='none')\n",
    "ax.plot(x,d_y_mrd,label=\"MRd_for_Descriptor\",color=\"b\",linestyle=\":\",linewidth=1.5,marker=\"x\",markersize=5.4)\n",
    "ax.plot(x,p_y_mrd,label=\"MRd_for_Packet\", color='b',linestyle=\"-\",linewidth=1.5,marker=\"x\",markersize=5.4)\n",
    "ax.plot(x,d_y_cpid,label=\"CplD_for_Descriptor\",color=\"g\",linestyle=\":\",linewidth=1.5,marker=\"v\",markersize=5.4,fillstyle='none')\n",
    "ax.plot(x,p_y_cpid,label=\"CplD_for_Packet\", color='g',linestyle='-',linewidth=1.5,marker=\"v\",markersize=5.4,fillstyle='none')\n",
    "\n",
    "\n",
    "ax.set_xlabel(\"Time (msec)\",size=14)\n",
    "ax.set_ylabel(\"Byte per 0.1 msec\",size=14)\n",
    "#ax.set_title(\"Proposed Tx\",size=14)\n",
    "ax.legend(loc=\"best\")\n",
    "plt.ylim([-45.0,500])\n",
    "plt.xlim(0.0, 4.2)   \n",
    "\n",
    "plt.savefig(\"../../100pkt/t_100pkt.png\",dpi=300) \n",
    "\n",
    "plt.show"
   ]
  },
  {
   "cell_type": "code",
   "execution_count": 305,
   "metadata": {},
   "outputs": [
    {
     "data": {
      "text/plain": [
       "<function matplotlib.pyplot.show(*args, **kw)>"
      ]
     },
     "execution_count": 305,
     "metadata": {},
     "output_type": "execute_result"
    },
    {
     "data": {
      "image/png": "[encoded data removed]",
      "text/plain": [
       "<Figure size 576x432 with 1 Axes>"
      ]
     },
     "metadata": {
      "needs_background": "light"
     },
     "output_type": "display_data"
    }
   ],
   "source": [
    "import seaborn as sns\n",
    "\n",
    "# unit based on sec or msec\n",
    "unit = 10\n",
    "x_start = 0\n",
    "x_tol = 1 / unit\n",
    "x_end = 0.8\n",
    "#x_end = (unit_time[total_line-1] - unit_time[0])/unit + x_tol*2\n",
    "\n",
    "x = np.arange(x_start,x_end,x_tol)\n",
    "y_mwr = np.arange(traffic_range)\n",
    "y_mrd = np.arange(traffic_range)\n",
    "y_cpid = np.arange(traffic_range)\n",
    "\n",
    "labels = [\"MWr\",\"MRd\",\"CpID\"]\n",
    "\n",
    "for i in range(traffic_range):\n",
    "    y_mwr[i] = cluster[i][0][1];\n",
    "    y_mrd[i] = cluster[i][1][1]; \n",
    "    y_cpid[i] = cluster[i][2][1];\n",
    "\n",
    "pal = sns.color_palette(\"Set1\")\n",
    "fig, ax = plt.subplots(figsize=(8,6))\n",
    "ax.stackplot(x,y_mwr,y_mrd,y_cpid,labels=labels,colors=pal,alpha=0.5)\n",
    "\n",
    "ax.set_xlabel(\"Time (msec)\",size=14)\n",
    "ax.set_ylabel(\"Byte\",size=14)\n",
    "ax.set_title(\"Traditional\",size=14)\n",
    "ax.legend(loc=\"best\")\n",
    "#plt.ylim([0,60])\n",
    "\n",
    "plt.savefig(\"./stackg_pic/100pkt/01msec_4col.pdf\",dpi=300) \n",
    "\n",
    "plt.show"
   ]
  },
  {
   "cell_type": "code",
   "execution_count": null,
   "metadata": {},
   "outputs": [],
   "source": []
  },
  {
   "cell_type": "code",
   "execution_count": null,
   "metadata": {},
   "outputs": [],
   "source": []
  }
 ],
 "metadata": {
  "kernelspec": {
   "display_name": "Python 3",
   "language": "python",
   "name": "python3"
  },
  "language_info": {
   "codemirror_mode": {
    "name": "ipython",
    "version": 3
   },
   "file_extension": ".py",
   "mimetype": "text/x-python",
   "name": "python",
   "nbconvert_exporter": "python",
   "pygments_lexer": "ipython3",
   "version": "3.7.3"
  }
 },
 "nbformat": 4,
 "nbformat_minor": 2
}
