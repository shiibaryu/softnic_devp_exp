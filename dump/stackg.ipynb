{
 "cells": [
  {
   "cell_type": "code",
   "execution_count": 696,
   "metadata": {},
   "outputs": [],
   "source": [
    "#init \n",
    "\n",
    "%matplotlib inline\n",
    "import numpy as np\n",
    "import matplotlib.pyplot as plt\n",
    "\n",
    "f = \"./100000pkt_parse.txt\"\n",
    "total_line = 500000\n",
    "#num_type = 4\n",
    "num_type = 6\n",
    "\n",
    "time = np.loadtxt(f,delimiter=',',usecols=[0],dtype=float)\n",
    "p_type = np.loadtxt(f,delimiter=',',usecols=[1],dtype=str)\n",
    "p_len = np.loadtxt(f,delimiter=',',usecols=[2],dtype=int)"
   ]
  },
  {
   "cell_type": "code",
   "execution_count": 685,
   "metadata": {},
   "outputs": [
    {
     "name": "stdout",
     "output_type": "stream",
     "text": [
      "50.788775\n",
      "53.124784\n"
     ]
    }
   ],
   "source": [
    "print(time[0])\n",
    "print(time[total_line-1])"
   ]
  },
  {
   "cell_type": "code",
   "execution_count": 697,
   "metadata": {},
   "outputs": [
    {
     "data": {
      "text/plain": [
       "507.0"
      ]
     },
     "execution_count": 697,
     "metadata": {},
     "output_type": "execute_result"
    }
   ],
   "source": [
    "for i in range(total_line):\n",
    "    time[i] = int(time[i] * 10)\n",
    "    #time[i] = int(time[i] -  1000000)\n",
    "\n",
    "time[0]"
   ]
  },
  {
   "cell_type": "code",
   "execution_count": 698,
   "metadata": {},
   "outputs": [
    {
     "data": {
      "text/plain": [
       "531.0"
      ]
     },
     "execution_count": 698,
     "metadata": {},
     "output_type": "execute_result"
    }
   ],
   "source": [
    "time[total_line-1]"
   ]
  },
  {
   "cell_type": "code",
   "execution_count": 699,
   "metadata": {},
   "outputs": [],
   "source": [
    "# devide time by time unit\n",
    "div_unit = 1\n",
    "\n",
    "unit_time = [];\n",
    "for i in range(total_line):\n",
    "        unit_time.append(int(time[i]/div_unit))"
   ]
  },
  {
   "cell_type": "code",
   "execution_count": 700,
   "metadata": {},
   "outputs": [
    {
     "data": {
      "text/plain": [
       "531"
      ]
     },
     "execution_count": 700,
     "metadata": {},
     "output_type": "execute_result"
    }
   ],
   "source": [
    "unit_time[total_line - 1]"
   ]
  },
  {
   "cell_type": "code",
   "execution_count": 701,
   "metadata": {},
   "outputs": [],
   "source": [
    "# get a count of traffic by time unit\n",
    "\n",
    "init_time = unit_time[0]\n",
    "traffic_range = unit_time[total_line-1]%init_time + 1\n",
    "#traffic_range = 234\n",
    "counter = list(range(traffic_range))\n",
    "\n",
    "for i in range(traffic_range):\n",
    "    counter[i] = 0;\n",
    "    \n",
    "for i in range(total_line):\n",
    "    counter[unit_time[i]-init_time] += 1;\n",
    "\n",
    "#for i in range(traffic_range):\n",
    " #   print(counter[i]);"
   ]
  },
  {
   "cell_type": "code",
   "execution_count": 702,
   "metadata": {},
   "outputs": [],
   "source": [
    "cluster = np.ones((traffic_range,num_type),dtype={\"names\":(\"ptype\",\"len\"),\"formats\":(\"str\",\"int\")})"
   ]
  },
  {
   "cell_type": "code",
   "execution_count": 602,
   "metadata": {},
   "outputs": [],
   "source": [
    "start = 0;\n",
    "\n",
    "for i in range(traffic_range):\n",
    "    for k in range(num_type):\n",
    "        cluster[i][k][1] = 0;\n",
    "\n",
    "for i in range(traffic_range):\n",
    "    for k in range(counter[i]):\n",
    "        offset = k + start;\n",
    "        if p_type[offset] == \"MWr\":\n",
    "            cluster[i][0][1] += p_len[offset]\n",
    "        elif p_type[offset] == \"MRd\":\n",
    "            cluster[i][1][1] += p_len[offset]\n",
    "        elif p_type[offset] == \"CplD\":\n",
    "            cluster[i][2][1] += p_len[offset]\n",
    "    start += k;\n",
    "\n"
   ]
  },
  {
   "cell_type": "code",
   "execution_count": 613,
   "metadata": {},
   "outputs": [],
   "source": [
    "start = 0;\n",
    "\n",
    "for i in range(traffic_range):\n",
    "    for k in range(num_type):\n",
    "        cluster[i][k][1] = 0;\n",
    "\n",
    "for i in range(traffic_range):\n",
    "    for k in range(counter[i]):\n",
    "        offset = k + start;\n",
    "        if p_type[offset] == \"MWr\":\n",
    "            if p_len[offset] == 2:\n",
    "                cluster[i][0][1] += p_len[offset]\n",
    "            elif p_len[offset] == 1:\n",
    "                 cluster[i][1][1] += p_len[offset]\n",
    "        elif p_type[offset] == \"MRd\":\n",
    "            cluster[i][2][1] += p_len[offset]\n",
    "        elif p_type[offset] == \"CplD\":\n",
    "            cluster[i][3][1] += p_len[offset]\n",
    "    start += k;"
   ]
  },
  {
   "cell_type": "code",
   "execution_count": 703,
   "metadata": {},
   "outputs": [],
   "source": [
    "start = 0;\n",
    "\n",
    "for i in range(traffic_range):\n",
    "    for k in range(num_type):\n",
    "        cluster[i][k][1] = 0;\n",
    "\n",
    "for i in range(traffic_range):\n",
    "    for k in range(counter[i]):\n",
    "        offset = k + start;\n",
    "        if p_type[offset] == \"MWr\":\n",
    "            if p_len[offset] == 2:\n",
    "                cluster[i][0][1] += p_len[offset]\n",
    "            elif p_len[offset] == 1:\n",
    "                 cluster[i][1][1] += p_len[offset]\n",
    "            else:\n",
    "                print(p_len[offset])\n",
    "                print(\"errrrrrrrrrroooooooooooooor!\")\n",
    "        elif p_type[offset] == \"MRd\":\n",
    "            if p_len[offset] == 4:\n",
    "                 cluster[i][2][1] += p_len[offset]\n",
    "            else:\n",
    "                 cluster[i][3][1] += p_len[offset]\n",
    "        elif p_type[offset] == \"CplD\":\n",
    "            if  p_len[offset] == 4:\n",
    "                cluster[i][4][1] += p_len[offset]\n",
    "            else:\n",
    "                cluster[i][5][1] += p_len[offset]\n",
    "\n",
    "    start += k;"
   ]
  },
  {
   "cell_type": "code",
   "execution_count": 704,
   "metadata": {},
   "outputs": [
    {
     "data": {
      "text/plain": [
       "25"
      ]
     },
     "execution_count": 704,
     "metadata": {},
     "output_type": "execute_result"
    }
   ],
   "source": [
    "traffic_range"
   ]
  },
  {
   "cell_type": "code",
   "execution_count": 709,
   "metadata": {},
   "outputs": [
    {
     "data": {
      "text/plain": [
       "<function matplotlib.pyplot.show(*args, **kw)>"
      ]
     },
     "execution_count": 709,
     "metadata": {},
     "output_type": "execute_result"
    },
    {
     "data": {
      "image/png": "[encoded data removed]",
      "text/plain": [
       "<Figure size 576x432 with 1 Axes>"
      ]
     },
     "metadata": {
      "needs_background": "light"
     },
     "output_type": "display_data"
    }
   ],
   "source": [
    "import seaborn as sns\n",
    "\n",
    "# unit based on sec or msec\n",
    "unit = 10\n",
    "x_start = 0\n",
    "x_tol = 1 / unit\n",
    "x_end = 2.5\n",
    "#x_end = (unit_time[total_line-1] - unit_time[0])/unit + x_tol*2\n",
    "\n",
    "x = np.arange(x_start,x_end,x_tol)\n",
    "#y_mwr = np.arange(traffic_range)\n",
    "#y_mrd = np.arange(traffic_range)\n",
    "#y_cpid = np.arange(traffic_range)\n",
    "\n",
    "a_y_mwr = np.arange(traffic_range)\n",
    "d_y_mwr = np.arange(traffic_range)\n",
    "d_y_mrd = np.arange(traffic_range)\n",
    "d_y_cpid = np.arange(traffic_range)\n",
    "p_y_mrd = np.arange(traffic_range)\n",
    "p_y_cpid = np.arange(traffic_range)\n",
    "\n",
    "\n",
    "#labels = [\"MWr\",\"MRd\",\"CpID\"]\n",
    "labels = [\"Adapter_MWr\",\"Device_MWr\",\"Descriptor_MRd\",\"Descriptor_CpID\",\"Packet_MRd\",\"Packet_CpID\"]\n",
    "\n",
    "for i in range(traffic_range):\n",
    "   # y_mwr[i] = cluster[i][0][1]/1024;\n",
    "    #y_mrd[i] = cluster[i][1][1]/1024; \n",
    "    #y_cpid[i] = cluster[i][2][1]/1024;\n",
    "    a_y_mwr[i] = cluster[i][0][1]/1024;\n",
    "    d_y_mwr[i] = cluster[i][1][1]/1024;\n",
    "    d_y_mrd[i] = cluster[i][2][1]/1024; \n",
    "    p_y_mrd[i] = cluster[i][3][1]/1024;\n",
    "    d_y_cpid[i] = cluster[i][4][1]/1024; \n",
    "    p_y_cpid[i] = cluster[i][5][1]/1024;\n",
    "\n",
    "\n",
    "pal = sns.color_palette(\"Set1\")\n",
    "fig, ax = plt.subplots(figsize=(8,6))\n",
    "#ax.stackplot(x,y_mwr,y_mrd,y_cpid,labels=labels,colors=pal,alpha=0.5)\n",
    "#ax.stackplot(x,a_y_mwr,d_y_mwr,y_mrd,y_cpid,labels=labels,colors=pal,alpha=0.3)\n",
    "ax.stackplot(x,a_y_mwr,d_y_mwr,d_y_mrd,d_y_cpid,p_y_mrd,p_y_cpid,labels=labels,colors=pal,alpha=0.7)\n",
    "\n",
    "ax.set_xlabel(\"Time (sec)\",size=14)\n",
    "ax.set_ylabel(\"KByte\",size=14)\n",
    "ax.set_title(\"Proposed\",size=14)\n",
    "ax.legend(loc=\"best\")\n",
    "#plt.ylim([0,50])\n",
    "#plt.xlim(0.0, 4.20)   \n",
    "\n",
    "plt.savefig(\"./proposed_dump_stackg/100000pkt_pic/01sec_4col_x4.png\",dpi=300) \n",
    "\n",
    "plt.show"
   ]
  },
  {
   "cell_type": "code",
   "execution_count": null,
   "metadata": {},
   "outputs": [],
   "source": []
  },
  {
   "cell_type": "code",
   "execution_count": null,
   "metadata": {},
   "outputs": [],
   "source": []
  }
 ],
 "metadata": {
  "kernelspec": {
   "display_name": "Python 3",
   "language": "python",
   "name": "python3"
  },
  "language_info": {
   "codemirror_mode": {
    "name": "ipython",
    "version": 3
   },
   "file_extension": ".py",
   "mimetype": "text/x-python",
   "name": "python",
   "nbconvert_exporter": "python",
   "pygments_lexer": "ipython3",
   "version": "3.7.3"
  }
 },
 "nbformat": 4,
 "nbformat_minor": 2
}
