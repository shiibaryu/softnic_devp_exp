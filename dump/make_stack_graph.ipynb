{
 "cells": [
  {
   "cell_type": "code",
   "execution_count": 1,
   "metadata": {},
   "outputs": [],
   "source": [
    "#init \n",
    "\n",
    "%matplotlib inline\n",
    "import numpy as np\n",
    "import matplotlib.pyplot as plt\n",
    "\n",
    "f = \"./10pkt_parse.txt\"\n",
    "\n",
    "time = np.loadtxt(f,delimiter=',',usecols=[0],dtype=int)\n",
    "p_type = np.loadtxt(f,delimiter=',',usecols=[1],dtype=str)\n",
    "p_len = np.loadtxt(f,delimiter=',',usecols=[2],dtype=int)"
   ]
  },
  {
   "cell_type": "code",
   "execution_count": 9,
   "metadata": {},
   "outputs": [
    {
     "data": {
      "text/plain": [
       "[4082,\n",
       " 4083,\n",
       " 4083,\n",
       " 4083,\n",
       " 4083,\n",
       " 4083,\n",
       " 4083,\n",
       " 4083,\n",
       " 4083,\n",
       " 4083,\n",
       " 4083,\n",
       " 4083,\n",
       " 4083,\n",
       " 4084,\n",
       " 4084,\n",
       " 4084,\n",
       " 4085,\n",
       " 4085,\n",
       " 4085,\n",
       " 4085,\n",
       " 4085,\n",
       " 4086,\n",
       " 4086,\n",
       " 4086,\n",
       " 4087,\n",
       " 4087,\n",
       " 4087,\n",
       " 4087,\n",
       " 4087,\n",
       " 4087,\n",
       " 4087,\n",
       " 4087,\n",
       " 4087,\n",
       " 4087,\n",
       " 4087,\n",
       " 4087,\n",
       " 4088,\n",
       " 4088,\n",
       " 4088,\n",
       " 4088,\n",
       " 4088,\n",
       " 4088,\n",
       " 4088,\n",
       " 4088,\n",
       " 4088,\n",
       " 4088,\n",
       " 4088,\n",
       " 4088,\n",
       " 4089,\n",
       " 4089,\n",
       " 4089,\n",
       " 4089,\n",
       " 4089,\n",
       " 4089,\n",
       " 4089,\n",
       " 4089,\n",
       " 4089,\n",
       " 4089,\n",
       " 4089,\n",
       " 4089]"
      ]
     },
     "execution_count": 9,
     "metadata": {},
     "output_type": "execute_result"
    }
   ],
   "source": [
    "# devide time by time unit\n",
    "\n",
    "total_line = 60\n",
    "div_unit = 100\n",
    "\n",
    "unit_time = [];\n",
    "for i in range(total_line):\n",
    "        unit_time.append(int(time[i]/div_unit))\n",
    "unit_time"
   ]
  },
  {
   "cell_type": "code",
   "execution_count": 15,
   "metadata": {},
   "outputs": [
    {
     "name": "stdout",
     "output_type": "stream",
     "text": [
      "1\n",
      "12\n",
      "3\n",
      "5\n",
      "3\n",
      "12\n",
      "12\n",
      "12\n"
     ]
    }
   ],
   "source": [
    "# get a count of traffic by time unit\n",
    "\n",
    "init_time = 4082\n",
    "\n",
    "traffic_range = unit_time[total_line-1]%init_time + 1\n",
    "counter = list(range(traffic_range))\n",
    "\n",
    "for i in range(traffic_range):\n",
    "    counter[i] = 0;\n",
    "    \n",
    "for i in range(total_line):\n",
    "    counter[unit_time[i]%init_time] += 1;\n",
    "\n",
    "for i in range(traffic_range):\n",
    "    print(counter[i]);"
   ]
  },
  {
   "cell_type": "code",
   "execution_count": 16,
   "metadata": {},
   "outputs": [
    {
     "data": {
      "text/plain": [
       "array([[('', 1), ('', 1), ('', 1)],\n",
       "       [('', 1), ('', 1), ('', 1)],\n",
       "       [('', 1), ('', 1), ('', 1)],\n",
       "       [('', 1), ('', 1), ('', 1)],\n",
       "       [('', 1), ('', 1), ('', 1)],\n",
       "       [('', 1), ('', 1), ('', 1)],\n",
       "       [('', 1), ('', 1), ('', 1)],\n",
       "       [('', 1), ('', 1), ('', 1)]],\n",
       "      dtype=[('ptype', '<U'), ('len', '<i4')])"
      ]
     },
     "execution_count": 16,
     "metadata": {},
     "output_type": "execute_result"
    }
   ],
   "source": [
    "num_type = 3\n",
    "\n",
    "cluster = np.ones((traffic_range,num_type),dtype={\"names\":(\"ptype\",\"len\"),\"formats\":(\"str\",\"int\")})\n",
    "cluster"
   ]
  },
  {
   "cell_type": "code",
   "execution_count": 17,
   "metadata": {},
   "outputs": [],
   "source": [
    "for i in range(traffic_range):\n",
    "    for k in range(3):\n",
    "        cluster[i][k][1] = 0;\n",
    "        \n",
    "for i in range(traffic_range):\n",
    "    for k in range(counter[i]):\n",
    "        if p_type[k] == \"MWr\":\n",
    "            cluster[i][0][1] += p_len[k]\n",
    "        elif p_type[k] == \"MRd\":\n",
    "            cluster[i][1][1] += p_len[k]\n",
    "        elif p_type[k] == \"CplD\":\n",
    "            cluster[i][2][1] += p_len[k]"
   ]
  },
  {
   "cell_type": "code",
   "execution_count": 18,
   "metadata": {},
   "outputs": [
    {
     "data": {
      "text/plain": [
       "array([[('',  2), ('',  0), ('',  0)],\n",
       "       [('', 20), ('',  4), ('',  4)],\n",
       "       [('',  6), ('',  0), ('',  0)],\n",
       "       [('', 10), ('',  0), ('',  0)],\n",
       "       [('',  6), ('',  0), ('',  0)],\n",
       "       [('', 20), ('',  4), ('',  4)],\n",
       "       [('', 20), ('',  4), ('',  4)],\n",
       "       [('', 20), ('',  4), ('',  4)]],\n",
       "      dtype=[('ptype', '<U'), ('len', '<i4')])"
      ]
     },
     "execution_count": 18,
     "metadata": {},
     "output_type": "execute_result"
    }
   ],
   "source": [
    "cluster"
   ]
  },
  {
   "cell_type": "code",
   "execution_count": 22,
   "metadata": {},
   "outputs": [
    {
     "data": {
      "text/plain": [
       "<function matplotlib.pyplot.show(*args, **kw)>"
      ]
     },
     "execution_count": 22,
     "metadata": {},
     "output_type": "execute_result"
    },
    {
     "data": {
      "image/png": "[encoded data removed]",
      "text/plain": [
       "<Figure size 576x432 with 1 Axes>"
      ]
     },
     "metadata": {
      "needs_background": "light"
     },
     "output_type": "display_data"
    }
   ],
   "source": [
    "import seaborn as sns\n",
    "\n",
    "# unit based on msec\n",
    "unit = 10\n",
    "x_start = 0\n",
    "x_tol = 1 / unit\n",
    "x_end = (unit_time[total_line-1] - unit_time[0])/unit + x_tol\n",
    "\n",
    "x = np.arange(x_start,x_end,x_tol)\n",
    "y_mwr = np.arange(traffic_range)\n",
    "y_mrd = np.arange(traffic_range)\n",
    "y_cpid = np.arange(traffic_range)\n",
    "labels = [\"MWr\",\"MRd\",\"CpID\"]\n",
    "\n",
    "for i in range(traffic_range):\n",
    "    y_mwr[i] = cluster[i][0][1];\n",
    "    y_mrd[i] = cluster[i][0][1]; \n",
    "    y_cpid[i] = cluster[i][0][1];\n",
    "\n",
    "pal = sns.color_palette(\"Set1\")\n",
    "fig, ax = plt.subplots(figsize=(8,6))\n",
    "ax.stackplot(x,y_mwr,y_mrd,y_cpid,labels=labels,colors=pal,alpha=0.5)\n",
    "\n",
    "ax.set_xlabel(\"time (msec)\",size=14)\n",
    "ax.set_ylabel(\"Byte\",size=14)\n",
    "ax.set_title(\"Traditional\",size=14)\n",
    "ax.legend(loc=\"best\")\n",
    "plt.savefig(\"traditinal_tx_10pkt.pdf\",dpi=300) \n",
    "\n",
    "plt.show"
   ]
  },
  {
   "cell_type": "code",
   "execution_count": null,
   "metadata": {},
   "outputs": [],
   "source": []
  },
  {
   "cell_type": "code",
   "execution_count": null,
   "metadata": {},
   "outputs": [],
   "source": []
  }
 ],
 "metadata": {
  "kernelspec": {
   "display_name": "Python 3",
   "language": "python",
   "name": "python3"
  },
  "language_info": {
   "codemirror_mode": {
    "name": "ipython",
    "version": 3
   },
   "file_extension": ".py",
   "mimetype": "text/x-python",
   "name": "python",
   "nbconvert_exporter": "python",
   "pygments_lexer": "ipython3",
   "version": "3.7.3"
  }
 },
 "nbformat": 4,
 "nbformat_minor": 2
}
