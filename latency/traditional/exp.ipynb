{
 "cells": [
  {
   "cell_type": "code",
   "execution_count": 16,
   "metadata": {},
   "outputs": [
    {
     "name": "stdout",
     "output_type": "stream",
     "text": [
      "avg\n",
      "294.696\n",
      "max\n",
      "338.0\n",
      "min\n",
      "222.0\n",
      "var\n",
      "116.95558399999993\n",
      "mdev\n",
      "10.814600501174324\n"
     ]
    }
   ],
   "source": [
    "%matplotlib inline\n",
    "\n",
    "import math\n",
    "import numpy as np\n",
    "import matplotlib.pyplot as plt\n",
    "\n",
    "tx = np.loadtxt(\"./t_tx2.txt\", unpack=True)\n",
    "rx = np.loadtxt(\"./t_rx2.txt\", unpack=True)\n",
    "\n",
    "dif = [];\n",
    "num = 0;\n",
    "dif_max = 0;\n",
    "dif_min = 1000000000;\n",
    "dif_sum = 0;\n",
    "dif_var = 0;\n",
    "dif_mdev = 0;\n",
    "\n",
    "for i in range(1000):\n",
    "    dif.append(rx[i] - tx[i]);\n",
    "    dif_sum += dif[i];\n",
    "    if(dif[i] > dif_max):\n",
    "        dif_max = dif[i];\n",
    "    \n",
    "    if(dif[i] < dif_min):\n",
    "        dif_min = dif[i];\n",
    "    \n",
    "dif_avg =  dif_sum/1000;\n",
    "\n",
    "for i in range(1000):\n",
    "    num += (dif[i] - dif_avg)**2;\n",
    "\n",
    "dif_var = num/1000;\n",
    "dif_mdev = math.sqrt(dif_var);\n",
    "\n",
    "print(\"avg\")\n",
    "print(dif_avg)\n",
    "\n",
    "print(\"max\")\n",
    "print(dif_max)\n",
    "\n",
    "print(\"min\")\n",
    "print(dif_min)\n",
    "\n",
    "print(\"var\")\n",
    "print(dif_var)\n",
    "\n",
    "print(\"mdev\")\n",
    "print(dif_mdev)\n"
   ]
  },
  {
   "cell_type": "code",
   "execution_count": null,
   "metadata": {},
   "outputs": [],
   "source": []
  },
  {
   "cell_type": "code",
   "execution_count": null,
   "metadata": {},
   "outputs": [],
   "source": []
  }
 ],
 "metadata": {
  "kernelspec": {
   "display_name": "Python 3",
   "language": "python",
   "name": "python3"
  }
 },
 "nbformat": 4,
 "nbformat_minor": 2
}
